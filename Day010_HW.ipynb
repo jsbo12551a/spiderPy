{
 "cells": [
  {
   "cell_type": "markdown",
   "metadata": {},
   "source": [
    "# 其他工具：Grab、PyQuery\n",
    "\n",
    "\n",
    "* 利用 Grab 套件的存取 HTML 資源\n",
    "* 利用 PyQuery 套件的解析 HTML 格式\n"
   ]
  },
  {
   "cell_type": "markdown",
   "metadata": {},
   "source": [
    "## 作業目標\n",
    "\n",
    "將之前用 requests + beatifulsoup 實作的方式，改寫成 grab + pyquery，並且比較有哪些地方不同。\n",
    "\n",
    "\n",
    "\n"
   ]
  },
  {
   "cell_type": "markdown",
   "metadata": {},
   "source": [
    "## requests + BeautifulSoup\n"
   ]
  },
  {
   "cell_type": "code",
   "execution_count": 26,
   "metadata": {},
   "outputs": [
    {
     "name": "stdout",
     "output_type": "stream",
     "text": [
      "<class 'str'> Google\n",
      "Save image downloads/Cgb5oo1.jpeg\n",
      "Save image downloads/MgjHY4f.jpeg\n",
      "Save image downloads/yeoRtAs.jpeg\n",
      "Save image downloads/wsauNEW.jpeg\n",
      "Save image downloads/IjiETcs.jpeg\n"
     ]
    }
   ],
   "source": [
    "import requests\n",
    "from bs4 import BeautifulSoup as bs\n",
    "import os\n",
    "from PIL import Image\n",
    "# url = 'https://www.google.com.tw/'\n",
    "# r = requests.get(url)\n",
    "# soup = bs(r.text)\n",
    "# title = soup.find('title').text\n",
    "# print(type(title),title)\n",
    "# 速度較慢\n",
    "\n",
    "url = 'https://www.ptt.cc/bbs/Beauty/M.1556291059.A.75A.html'\n",
    "resp = requests.get(url, cookies={'over18': '1'})\n",
    "soup = bs(resp.text)\n",
    "# 決定要儲存的資料夾\n",
    "output_dir = 'downloads'\n",
    "\n",
    "# 假如資料夾不存在就新增一個資料夾\n",
    "if not os.path.exists(output_dir):\n",
    "    os.makedirs(output_dir)\n",
    "\n",
    "# 定位所有圖片的 tag\n",
    "image_tags = soup.find(id = 'main-content').findChildren('a', recursive=False)\n",
    "image_tags\n",
    "for img_tag in image_tags:\n",
    "    # 取得所有圖片在第三方服務的 id\n",
    "    if 'imgur' not in img_tag['href']:\n",
    "        continue\n",
    "    # 組合圖片而非網站的網址\n",
    "    img_id = img_tag['href'].split('/')[-1]\n",
    "    img_url = 'https://imgur.com/'+img_id+'.jpg'\n",
    "    # 對圖片送出請求\n",
    "    with requests.get(img_url,stream=True) as r:\n",
    "        r.raise_for_status()\n",
    "        img = Image.open(r.raw)\n",
    "#         print(img.format.lower())\n",
    "        img_savename = output_dir+'/'+img_id+'.'+img.format.lower()\n",
    "#     print(img_savename)\n",
    "        img.save(img_savename)\n",
    "    print('Save image %s'%img_savename)\n"
   ]
  },
  {
   "cell_type": "markdown",
   "metadata": {},
   "source": [
    "## Grab + PyQuery"
   ]
  },
  {
   "cell_type": "code",
   "execution_count": 66,
   "metadata": {
    "scrolled": false
   },
   "outputs": [
    {
     "name": "stdout",
     "output_type": "stream",
     "text": [
      "Cgb5oo1.jpg\n",
      "MgjHY4f.jpg\n",
      "yeoRtAs.jpg\n",
      "wsauNEW.jpg\n",
      "IjiETcs.jpg\n"
     ]
    }
   ],
   "source": [
    "from grab import Grab\n",
    "from pyquery import PyQuery as pq\n",
    "import os\n",
    "from PIL import Image\n",
    "# g = Grab()\n",
    "# r = g.go('https://www.google.com.tw/')\n",
    "# doc = pq(r.body)\n",
    "# title = doc('title')\n",
    "# print(type(title.text()),title.text())\n",
    "# 速度較快\n",
    "\n",
    "g = Grab()\n",
    "r = g.go('https://www.ptt.cc/bbs/Beauty/M.1556291059.A.75A.html',cookies={'over18': '1'})\n",
    "doc = pq(r.body)\n",
    "a = doc('#main-content')('a')\n",
    "a = a.text()\n",
    "a = a.split('  ')\n",
    "imgs = [img+'.jpg' for img in a if 'imgur' in img]\n",
    "for img in imgs:\n",
    "    img_id = img.split('/')[-1]\n",
    "    imgg = g.go(img)\n",
    "    open(output_dir+'/'+img_id, 'wb').write(imgg.body)\n",
    "    print(img_id)\n"
   ]
  },
  {
   "cell_type": "code",
   "execution_count": null,
   "metadata": {},
   "outputs": [],
   "source": []
  },
  {
   "cell_type": "code",
   "execution_count": null,
   "metadata": {},
   "outputs": [],
   "source": []
  }
 ],
 "metadata": {
  "kernelspec": {
   "display_name": "Python 3",
   "language": "python",
   "name": "python3"
  },
  "language_info": {
   "codemirror_mode": {
    "name": "ipython",
    "version": 3
   },
   "file_extension": ".py",
   "mimetype": "text/x-python",
   "name": "python",
   "nbconvert_exporter": "python",
   "pygments_lexer": "ipython3",
   "version": "3.7.3"
  }
 },
 "nbformat": 4,
 "nbformat_minor": 2
}
