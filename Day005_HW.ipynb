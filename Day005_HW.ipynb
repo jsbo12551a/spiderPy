{
 "cells": [
  {
   "cell_type": "markdown",
   "metadata": {},
   "source": [
    "# API 資料串接 - 以 Dcard API 實作範例\n",
    "\n",
    "* 了解 Dcard API 使用方式與回傳內容\n",
    "* 撰寫程式存取 API 且解析 JSON 格式資料\n"
   ]
  },
  {
   "cell_type": "markdown",
   "metadata": {},
   "source": [
    "## 作業目標\n",
    "\n",
    "* 請利用 API: https://www.dcard.tw/_api/forums/pet/posts?popular=true 回答下列問題：\n",
    "\n",
    "1. 這個 API 一次會回傳幾筆資料？每一筆資料包含哪些欄位？\n",
    "2. 取出每一筆資料的「標題」、「貼文時間」、「留言人數」、「按讚人數」\n",
    "3. 計算熱門/非熱門文章的「平均留言人數」與「平均按讚人數」"
   ]
  },
  {
   "cell_type": "code",
   "execution_count": 17,
   "metadata": {},
   "outputs": [
    {
     "name": "stdout",
     "output_type": "stream",
     "text": [
      "一次回傳30筆\n",
      "每筆資料包含\n",
      "id,title,excerpt,anonymousSchool,anonymousDepartment,pinned,forumId,replyId,createdAt,updatedAt,commentCount,likeCount,withNickname,tags,topics,meta,forumName,forumAlias,gender,school,replyTitle,mediaMeta,reactions,hidden,customStyle,isSuspiciousAccount,layout,withImages,withVideos,media,reportReasonText,postAvatar,"
     ]
    }
   ],
   "source": [
    "# 1. 這個 API 一次會回傳幾筆資料？每一筆資料包含哪些欄位？\n",
    "import requests\n",
    "import json\n",
    "url = requests.get('https://www.dcard.tw/_api/forums/pet/posts?popular=true')\n",
    "r = url.text\n",
    "r = json.loads(r)\n",
    "print('一次回傳%d筆'%len(r))\n",
    "print('每筆資料包含的欄位有 ')\n",
    "for i in r[0].keys():\n",
    "    print('%s'%i,end = ',')"
   ]
  },
  {
   "cell_type": "code",
   "execution_count": 22,
   "metadata": {},
   "outputs": [
    {
     "name": "stdout",
     "output_type": "stream",
     "text": [
      "標題:#更#圖多 口香糖做的貓？！,貼文時間:2019-12-15T19:26:51.944Z,留言人數:43,案讚人數:2055\n",
      "標題:#黑特 小孩虐待寵物活活踩死鸚鵡,貼文時間:2019-12-15T15:32:42.755Z,留言人數:53,案讚人數:535\n",
      "標題:給不給人出門,貼文時間:2019-12-15T13:07:06.980Z,留言人數:13,案讚人數:341\n",
      "標題:阿嬤養的豬,貼文時間:2019-12-15T17:16:31.445Z,留言人數:6,案讚人數:171\n",
      "標題:我爸想喂野貓吃農藥,貼文時間:2019-12-15T04:20:43.807Z,留言人數:64,案讚人數:167\n",
      "標題:原以為會很可愛卻走鐘了,貼文時間:2019-12-15T13:46:03.332Z,留言人數:4,案讚人數:76\n",
      "標題:還我男朋友ಠ_ಠ,貼文時間:2019-12-15T17:25:24.041Z,留言人數:0,案讚人數:70\n",
      "標題:我家柯基在思考人生,貼文時間:2019-12-15T12:17:53.947Z,留言人數:6,案讚人數:56\n",
      "標題:#英短 我可愛的兒💖,貼文時間:2019-12-15T10:38:42.587Z,留言人數:7,案讚人數:28\n",
      "標題:#圖 #限時狀態 同學~交出你的鼠鼠♥,貼文時間:2019-12-16T10:48:57.101Z,留言人數:7,案讚人數:26\n",
      "標題:狗狗在我面前的離逝...拜託有良心一點！！！,貼文時間:2019-12-16T03:35:00.754Z,留言人數:4,案讚人數:26\n",
      "標題:新北耶誕城～真的很抱歉🙇‍♀️🙇,貼文時間:2019-12-16T03:20:30.036Z,留言人數:1,案讚人數:23\n",
      "標題:同學，交出妳的貓咪,貼文時間:2019-12-16T03:11:01.370Z,留言人數:2,案讚人數:22\n",
      "標題:我的貓走失了😭,貼文時間:2019-12-16T06:11:50.123Z,留言人數:3,案讚人數:21\n",
      "標題:先生我不是故意拍到你的！,貼文時間:2019-12-16T10:06:58.335Z,留言人數:2,案讚人數:16\n",
      "標題:貓咪吃到酸梅🐈😝😖 (圖),貼文時間:2019-12-15T17:48:23.078Z,留言人數:0,案讚人數:16\n",
      "標題:轉：《轉》新竹市巨城附近大量小貓慘死,貼文時間:2019-12-15T14:36:22.125Z,留言人數:1,案讚人數:16\n",
      "標題:寵物鮮食 狗蛋糕,貼文時間:2019-12-15T14:02:23.606Z,留言人數:3,案讚人數:14\n",
      "標題:我努力賺錢，你努力花錢😭,貼文時間:2019-12-15T13:46:00.205Z,留言人數:3,案讚人數:14\n",
      "標題:「阿是不會領養喔」,貼文時間:2019-12-16T11:00:02.638Z,留言人數:5,案讚人數:11\n",
      "標題:送養？棄養？,貼文時間:2019-12-16T05:41:10.504Z,留言人數:5,案讚人數:11\n",
      "標題:#天竺鼠 Fatbe Diary 成長日記 - 鼻鼻討摸摸睡著篇,貼文時間:2019-12-15T13:30:56.683Z,留言人數:1,案讚人數:9\n",
      "標題:#圖 癡肥的貓,貼文時間:2019-12-16T07:15:24.730Z,留言人數:1,案讚人數:8\n",
      "標題:#圖 重點色布偶喔！不是暹羅ヾ(*ΦωΦ)ツ,貼文時間:2019-12-15T15:06:17.023Z,留言人數:2,案讚人數:8\n",
      "標題:偽長大照,貼文時間:2019-12-15T15:04:47.209Z,留言人數:1,案讚人數:8\n",
      "標題:你可以不要這麼厭世嗎,貼文時間:2019-12-15T11:47:56.734Z,留言人數:2,案讚人數:8\n",
      "標題:獸醫助理,貼文時間:2019-12-15T07:26:58.875Z,留言人數:22,案讚人數:7\n",
      "標題:預知地震的烏龜,貼文時間:2019-12-16T12:16:49.211Z,留言人數:2,案讚人數:6\n",
      "標題:蛋蛋保衛戰,貼文時間:2019-12-16T05:36:12.642Z,留言人數:1,案讚人數:6\n",
      "標題:倒底誰攻誰受😳,貼文時間:2019-12-16T04:48:21.611Z,留言人數:0,案讚人數:6\n"
     ]
    }
   ],
   "source": [
    "# 2. 取出每一筆資料的「標題」、「貼文時間」、「留言人數」、「按讚人數」\n",
    "\n",
    "for i in r:\n",
    "    print('標題:%s,貼文時間:%s,留言人數:%s,案讚人數:%s'%(i['title'],i['createdAt'],i['commentCount'],i['likeCount']))"
   ]
  },
  {
   "cell_type": "code",
   "execution_count": 24,
   "metadata": {},
   "outputs": [
    {
     "name": "stdout",
     "output_type": "stream",
     "text": [
      "8.8\n",
      "126.03333333333333\n"
     ]
    }
   ],
   "source": [
    "# 3. 計算熱門/非熱門文章的「平均留言人數」與「平均按讚人數」\n",
    "commentCountALL = 0\n",
    "likeCountALL = 0\n",
    "for i in r:\n",
    "    commentCountALL += i['commentCount']\n",
    "    likeCountALL+=i['likeCount']\n",
    "print(commentCountALL/len(r))\n",
    "print(likeCountALL/len(r))\n",
    "    "
   ]
  },
  {
   "cell_type": "code",
   "execution_count": null,
   "metadata": {},
   "outputs": [],
   "source": []
  },
  {
   "cell_type": "code",
   "execution_count": null,
   "metadata": {},
   "outputs": [],
   "source": []
  }
 ],
 "metadata": {
  "kernelspec": {
   "display_name": "Python 3",
   "language": "python",
   "name": "python3"
  },
  "language_info": {
   "codemirror_mode": {
    "name": "ipython",
    "version": 3
   },
   "file_extension": ".py",
   "mimetype": "text/x-python",
   "name": "python",
   "nbconvert_exporter": "python",
   "pygments_lexer": "ipython3",
   "version": "3.7.3"
  }
 },
 "nbformat": 4,
 "nbformat_minor": 2
}
