{
 "cells": [
  {
   "cell_type": "markdown",
   "metadata": {},
   "source": [
    "# PTT 網路爬蟲實作練習\n",
    "\n",
    "\n",
    "* 能夠利用 Request + BeatifulSour 撰寫爬蟲，並存放到合適的資料結構\n"
   ]
  },
  {
   "cell_type": "markdown",
   "metadata": {},
   "source": [
    "## 作業目標\n",
    "\n",
    "根據範例 ，完成以下問題：\n",
    "\n",
    "* ① 印出最新文章的「作者」「標題」「時間」\n",
    "* ② 印出第一頁所有文章的「作者」「標題」「時間」\n"
   ]
  },
  {
   "cell_type": "markdown",
   "metadata": {},
   "source": [
    "### ① 印出最新文章的「作者」「標題」「時間」"
   ]
  },
  {
   "cell_type": "code",
   "execution_count": 15,
   "metadata": {},
   "outputs": [
    {
     "name": "stdout",
     "output_type": "stream",
     "text": [
      "SeungYeon [情報] 有幾支球隊有意交易得到Dennis Smith Jr 12/19\n"
     ]
    }
   ],
   "source": [
    "import requests\n",
    "from bs4 import BeautifulSoup\n",
    "\n",
    "url = 'https://www.ptt.cc/bbs/NBA/index.html'\n",
    "r = requests.get(url)\n",
    "soup = BeautifulSoup(r.text,'html5lib')\n",
    "div = soup.select('.r-ent')\n",
    "print(div[0].select('.meta')[0].select('.author')[0].text,end = ' ')\n",
    "print(div[0].select('.title')[0].select('a')[0].text,end = ' ')\n",
    "print(div[0].select('.meta')[0].select('.date')[0].text)"
   ]
  },
  {
   "cell_type": "markdown",
   "metadata": {},
   "source": [
    "### ② 印出第一頁所有文章的「作者」「標題」「時間」"
   ]
  },
  {
   "cell_type": "code",
   "execution_count": 18,
   "metadata": {},
   "outputs": [
    {
     "name": "stdout",
     "output_type": "stream",
     "text": [
      "SeungYeon [情報] 有幾支球隊有意交易得到Dennis Smith Jr 12/19\n",
      "Gotham [新聞] 輸球與保羅合影挨批 懷特哥哥強力回擊網 12/19\n",
      "aaakuei Re: [花邊] 回NBA或待在CBA？林書豪道出心聲 12/20\n",
      "Vedan [公告] 板規v6.7  5/24\n",
      "Vedan [公告] 樂透取消及未來不再開啟樂透  6/24\n",
      "qazwsx879345 [公告] 版主上任相關事項  10/25\n",
      "JerroLi [情報] SEASON Schedule 賽程 December 19–20 11/29\n",
      "dragon803 [公告] 是否禁止記者鄭廷瑋文章投票開始 12/16\n"
     ]
    }
   ],
   "source": [
    "for i in div:\n",
    "    print(i.select('.meta')[0].select('.author')[0].text,end = ' ')\n",
    "    print(i.select('.title')[0].select('a')[0].text,end = ' ')\n",
    "    print(i.select('.meta')[0].select('.date')[0].text)"
   ]
  },
  {
   "cell_type": "markdown",
   "metadata": {},
   "source": [
    "### ③ 試著爬爬看其他版的文章"
   ]
  },
  {
   "cell_type": "code",
   "execution_count": 17,
   "metadata": {},
   "outputs": [
    {
     "name": "stdout",
     "output_type": "stream",
     "text": [
      "littlechild [心得] vip心得 12/17\n",
      "sssyen [心得] 愛的迫降（ep1-2）那男人說我是他的未婚妻 12/17\n",
      "ppok [情報]《浪漫醫生金師傅2》首波預告公開，還是那 12/17\n",
      "ppok [新聞] 李善均鄭麗媛《檢察官內傳》以5.0%順利啟 12/17\n",
      "ppok [情報] 2019 MBC 演技大賞【最佳CP】名單公開， 12/17\n",
      "jinyi [情報] 韓國Netflix《Sweet Home》確定演出陣容 12/18\n",
      "tcchenk [LIVE] 精神病患日記 EP9、EP10 12/18\n",
      "ppok [情報]《梨泰院CLASS》短預告公開，朴敘俊多變表 12/18\n",
      "jello929 [新聞] 2019韓票選「國民演員」 12/19\n",
      "Underground [心得] Stove League 第一,二集觀後心得(有雷) 12/19\n",
      "mddream [心得] 指定倖存者：60 日 12/19\n",
      "watase124 [情報] 12月新劇：SBS Stove League/金牌救援 12/19\n",
      "XDDDD555 [公告] 韓劇板板規 Ver.15 (18/09/05修訂)  10/06\n",
      "XDDDD555 [置底] 韓劇「求、推薦區」  8/31\n",
      "watase124 [情報] 韓國 & 台灣跟播平台．韓劇節目表 12/01\n",
      "XDDDD555 [置底] 12月難以發文討論之「閒聊區」 12/01\n"
     ]
    }
   ],
   "source": [
    "url2 = 'https://www.ptt.cc/bbs/KoreaDrama/index.html'\n",
    "r2 = requests.get(url2)\n",
    "soup = BeautifulSoup(r2.text,'html5lib')\n",
    "div2 = soup.select('.r-ent')\n",
    "for i in div2:\n",
    "    print(i.select('.meta')[0].select('.author')[0].text,end = ' ')\n",
    "    print(i.select('.title')[0].select('a')[0].text,end = ' ')\n",
    "    print(i.select('.meta')[0].select('.date')[0].text)"
   ]
  },
  {
   "cell_type": "code",
   "execution_count": null,
   "metadata": {},
   "outputs": [],
   "source": []
  }
 ],
 "metadata": {
  "kernelspec": {
   "display_name": "Python 3",
   "language": "python",
   "name": "python3"
  },
  "language_info": {
   "codemirror_mode": {
    "name": "ipython",
    "version": 3
   },
   "file_extension": ".py",
   "mimetype": "text/x-python",
   "name": "python",
   "nbconvert_exporter": "python",
   "pygments_lexer": "ipython3",
   "version": "3.7.3"
  }
 },
 "nbformat": 4,
 "nbformat_minor": 2
}
