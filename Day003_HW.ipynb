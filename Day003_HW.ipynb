{
 "cells": [
  {
   "cell_type": "markdown",
   "metadata": {},
   "source": [
    "# Python 下載XML檔案與解析\n",
    "\n",
    "\n",
    "* 了解 xml 檔案格式與內容\n",
    "* 能夠利用套件存取 xml 格式的檔案\n"
   ]
  },
  {
   "cell_type": "markdown",
   "metadata": {},
   "source": [
    "## 作業目標\n",
    "\n",
    "* 比較一下範例檔案中的「File I/O」與「xmltodict」讀出來的內容有什麼差異\n",
    "\n",
    "* 根據範例檔案的結果：\n",
    "    1. 請問高雄市有多少地區有溫度資料？\n",
    "    2. 請取出每一個地區所記錄的第一個時間點跟溫度\n",
    "    3. 請取出第一個地區所記錄的每一個時間點跟溫度"
   ]
  },
  {
   "cell_type": "markdown",
   "metadata": {},
   "source": [
    "### 比較一下範例檔案中的「File I/O」與「xmltodict」讀出來的內容有什麼差異\n"
   ]
  },
  {
   "cell_type": "code",
   "execution_count": null,
   "metadata": {},
   "outputs": [],
   "source": [
    "'''\n",
    "Your Code\n",
    "'''"
   ]
  },
  {
   "cell_type": "markdown",
   "metadata": {},
   "source": [
    "### 根據範例檔案的結果：\n",
    "\n",
    "1. 請問高雄市有多少地區有溫度資料？\n",
    "2. 請取出每一個地區所記錄的第一個時間點跟溫度\n",
    "3. 請取出第一個地區所記錄的每一個時間點跟溫度"
   ]
  },
  {
   "cell_type": "code",
   "execution_count": 7,
   "metadata": {},
   "outputs": [
    {
     "name": "stdout",
     "output_type": "stream",
     "text": [
      "臺灣各縣市鄉鎮未來3天(72小時)逐3小時天氣預報\n"
     ]
    }
   ],
   "source": [
    "import xml.dom.minidom\n",
    "\n",
    "# 存取檔案\n",
    "doc = xml.dom.minidom.parse(\"./data/64_72hr_CH.xml\")\n",
    "\n",
    "# 存取我們的資訊\n",
    "# print(doc.getElementsByTagName(\"datasetDescription\")[0].firstChild.nodeValue)description\n",
    "\n",
    "# 用迴圈存取我們的資訊\n",
    "# chapters = doc.getElementsByTagName(\"Chapter\")\n",
    "# for chapter in chapters:\n",
    "#     print (chapter.getAttribute('name'), chapter.firstChild.nodeValue)"
   ]
  },
  {
   "cell_type": "code",
   "execution_count": 48,
   "metadata": {},
   "outputs": [
    {
     "name": "stdout",
     "output_type": "stream",
     "text": [
      "有38個地區\n",
      "有912個溫度資料\n"
     ]
    }
   ],
   "source": [
    "# 1. 請問高雄市有多少地區有溫度資料？\n",
    "\n",
    "# weatherElement = doc.getElementsByTagName('weatherElement')[0]\n",
    "location = doc.getElementsByTagName('location')\n",
    "area = len(location)\n",
    "temperature = 0\n",
    "for i in range(len(location)):\n",
    "    time = location[i].getElementsByTagName('weatherElement')[0].getElementsByTagName('time')\n",
    "#     time = weatherElement.getElementsByTagName('time')\n",
    "    temperature += len(time)\n",
    "print('有%d個地區'%area)\n",
    "print('有%d個溫度資料'%temperature)"
   ]
  },
  {
   "cell_type": "code",
   "execution_count": 53,
   "metadata": {},
   "outputs": [
    {
     "name": "stdout",
     "output_type": "stream",
     "text": [
      "2019-12-14T12:00:00+08:00\n",
      "25\n",
      "2019-12-14T12:00:00+08:00\n",
      "25\n",
      "2019-12-14T12:00:00+08:00\n",
      "24\n",
      "2019-12-14T12:00:00+08:00\n",
      "25\n",
      "2019-12-14T12:00:00+08:00\n",
      "24\n",
      "2019-12-14T12:00:00+08:00\n",
      "25\n",
      "2019-12-14T12:00:00+08:00\n",
      "25\n",
      "2019-12-14T12:00:00+08:00\n",
      "25\n",
      "2019-12-14T12:00:00+08:00\n",
      "26\n",
      "2019-12-14T12:00:00+08:00\n",
      "24\n",
      "2019-12-14T12:00:00+08:00\n",
      "26\n",
      "2019-12-14T12:00:00+08:00\n",
      "26\n",
      "2019-12-14T12:00:00+08:00\n",
      "26\n",
      "2019-12-14T12:00:00+08:00\n",
      "26\n",
      "2019-12-14T12:00:00+08:00\n",
      "27\n",
      "2019-12-14T12:00:00+08:00\n",
      "25\n",
      "2019-12-14T12:00:00+08:00\n",
      "25\n",
      "2019-12-14T12:00:00+08:00\n",
      "26\n",
      "2019-12-14T12:00:00+08:00\n",
      "25\n",
      "2019-12-14T12:00:00+08:00\n",
      "26\n",
      "2019-12-14T12:00:00+08:00\n",
      "25\n",
      "2019-12-14T12:00:00+08:00\n",
      "26\n",
      "2019-12-14T12:00:00+08:00\n",
      "25\n",
      "2019-12-14T12:00:00+08:00\n",
      "26\n",
      "2019-12-14T12:00:00+08:00\n",
      "25\n",
      "2019-12-14T12:00:00+08:00\n",
      "24\n",
      "2019-12-14T12:00:00+08:00\n",
      "24\n",
      "2019-12-14T12:00:00+08:00\n",
      "24\n",
      "2019-12-14T12:00:00+08:00\n",
      "24\n",
      "2019-12-14T12:00:00+08:00\n",
      "26\n",
      "2019-12-14T12:00:00+08:00\n",
      "27\n",
      "2019-12-14T12:00:00+08:00\n",
      "26\n",
      "2019-12-14T12:00:00+08:00\n",
      "27\n",
      "2019-12-14T12:00:00+08:00\n",
      "28\n",
      "2019-12-14T12:00:00+08:00\n",
      "27\n",
      "2019-12-14T12:00:00+08:00\n",
      "28\n",
      "2019-12-14T12:00:00+08:00\n",
      "26\n"
     ]
    }
   ],
   "source": [
    "# 2. 請取出每一個地區所記錄的第一個時間點跟溫度\n",
    "\n",
    "for i in range(0,len(location)-1):\n",
    "    print(location[i].getElementsByTagName('dataTime')[0].firstChild.nodeValue)\n",
    "    print(location[i].getElementsByTagName('value')[0].firstChild.nodeValue)\n",
    "    "
   ]
  },
  {
   "cell_type": "code",
   "execution_count": 52,
   "metadata": {},
   "outputs": [
    {
     "name": "stdout",
     "output_type": "stream",
     "text": [
      "2019-12-14T12:00:00+08:00\n",
      "25\n",
      "2019-12-14T15:00:00+08:00\n",
      "26\n",
      "2019-12-14T18:00:00+08:00\n",
      "24\n",
      "2019-12-14T21:00:00+08:00\n",
      "22\n",
      "2019-12-15T00:00:00+08:00\n",
      "20\n",
      "2019-12-15T03:00:00+08:00\n",
      "20\n",
      "2019-12-15T06:00:00+08:00\n",
      "19\n",
      "2019-12-15T09:00:00+08:00\n",
      "21\n",
      "2019-12-15T12:00:00+08:00\n",
      "25\n",
      "2019-12-15T15:00:00+08:00\n",
      "26\n",
      "2019-12-15T18:00:00+08:00\n",
      "24\n",
      "2019-12-15T21:00:00+08:00\n",
      "22\n",
      "2019-12-16T00:00:00+08:00\n",
      "21\n",
      "2019-12-16T03:00:00+08:00\n",
      "20\n",
      "2019-12-16T06:00:00+08:00\n",
      "20\n",
      "2019-12-16T09:00:00+08:00\n",
      "21\n",
      "2019-12-16T12:00:00+08:00\n",
      "25\n",
      "2019-12-16T15:00:00+08:00\n",
      "26\n",
      "2019-12-16T18:00:00+08:00\n",
      "24\n",
      "2019-12-16T21:00:00+08:00\n",
      "22\n",
      "2019-12-17T00:00:00+08:00\n",
      "21\n",
      "2019-12-17T03:00:00+08:00\n",
      "20\n",
      "2019-12-17T06:00:00+08:00\n",
      "20\n",
      "2019-12-17T09:00:00+08:00\n",
      "22\n"
     ]
    }
   ],
   "source": [
    "# 3. 請取出第一個地區所記錄的每一個時間點跟溫度\n",
    "location0 = doc.getElementsByTagName('location')[0].getElementsByTagName('weatherElement')[0].getElementsByTagName('time')\n",
    "for i in range(len(location0)):\n",
    "    print(location0[i].getElementsByTagName('dataTime')[0].firstChild.nodeValue)\n",
    "    print(location0[i].getElementsByTagName('value')[0].firstChild.nodeValue)"
   ]
  },
  {
   "cell_type": "code",
   "execution_count": null,
   "metadata": {},
   "outputs": [],
   "source": []
  }
 ],
 "metadata": {
  "kernelspec": {
   "display_name": "Python 3",
   "language": "python",
   "name": "python3"
  },
  "language_info": {
   "codemirror_mode": {
    "name": "ipython",
    "version": 3
   },
   "file_extension": ".py",
   "mimetype": "text/x-python",
   "name": "python",
   "nbconvert_exporter": "python",
   "pygments_lexer": "ipython3",
   "version": "3.7.3"
  }
 },
 "nbformat": 4,
 "nbformat_minor": 2
}
